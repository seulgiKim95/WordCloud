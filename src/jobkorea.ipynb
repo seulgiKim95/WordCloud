{
 "cells": [
  {
   "cell_type": "code",
   "execution_count": 60,
   "metadata": {},
   "outputs": [],
   "source": [
    "# conda install beautifulsoup4\n",
    "# conda install selenium\n",
    "import time\n",
    "from selenium import webdriver\n",
    "from selenium.webdriver.support import expected_conditions as EC\n",
    "from selenium.webdriver.common.keys import Keys\n",
    "from bs4 import BeautifulSoup\n",
    "import requests\n",
    "from selenium.webdriver.common.by import By\n",
    "import pandas as pd\n",
    "from selenium.webdriver.support.ui import WebDriverWait"
   ]
  },
  {
   "cell_type": "code",
   "execution_count": 2,
   "metadata": {},
   "outputs": [],
   "source": [
    "Data = pd.DataFrame({}, columns=[\\\n",
    "    'job', 'cname','skills', 'preference', 'welfare', 'loc',\\\n",
    "    'rec type','url'])"
   ]
  },
  {
   "cell_type": "code",
   "execution_count": 43,
   "metadata": {},
   "outputs": [],
   "source": [
    "#path = '../data/chromedriver.exe'\n",
    "options = webdriver.ChromeOptions()\n",
    "#options.add_argument('--headless')        ## Head-less 설정\n",
    "options.add_argument('--no-sandbox')\n",
    "options.add_argument('--disable-dev-shm-usage')\n",
    "options.add_argument('user-agent=Mozilla/5.0 (Windows NT 10.0; Win64; x64) AppleWebKit/537.36 (KHTML, like Gecko) Chrome/103.0.0.0 Safari/537.36')\n",
    "chromedriver = '../data/chromedriver'"
   ]
  },
  {
   "cell_type": "code",
   "execution_count": 6,
   "metadata": {},
   "outputs": [],
   "source": [
    "# base_url = \"https://www.saramin.co.kr/zf_user/search?searchword=\"\n",
    "base_url = 'https://www.saramin.co.kr/zf_user/'\n",
    "driver = webdriver.Chrome(chromedriver, options=options)\n",
    "driver.get(base_url)\n",
    "search_job = driver.find_element('xpath', '//*[@id=\"search_open\"]')\n",
    "search_job.send_keys(Keys.ENTER)\n",
    "word = '데이터 사이언티스트'\n",
    "search = driver.find_element('xpath','//*[@id=\"ipt_keyword_recruit\"]')\n",
    "search.send_keys(word+Keys.ENTER)\n",
    "click = driver.find_element('xpath','//*[@id=\"btn_search_recruit\"]')\n",
    "click.send_keys(Keys.ENTER)\n",
    "# search_job.send_keys(word+Keys.ENTER)\n",
    "time.sleep(5)\n",
    "html = driver.page_source\n",
    "#driver.quit()"
   ]
  },
  {
   "cell_type": "code",
   "execution_count": 7,
   "metadata": {},
   "outputs": [],
   "source": [
    "page_soup = BeautifulSoup(html, 'html.parser')\n",
    "recruits = page_soup.find_all('div', {'class':'item_recruit'})"
   ]
  },
  {
   "cell_type": "code",
   "execution_count": 63,
   "metadata": {},
   "outputs": [],
   "source": [
    "# for-loop start\n",
    "import sys\n",
    "import copy\n",
    "\n",
    "#for recruit in recruits:\n",
    "recruit = recruits[2]\n",
    "#print (recruit)\n",
    "rec_url = recruit.find('a', {'class':'data_layer'})['href']    \n",
    "length = Data.shape[0]\n",
    "base_url = 'https://www.saramin.co.kr'\n",
    "search_url = base_url + rec_url\n",
    "driver.get(search_url)\n",
    "driver.implicitly_wait(10)\n",
    "#WebDriverWait(driver, 10).until(EC.presence_of_element_located((By.CSS_SELECTOR, \n",
    "#'#capacityGrid > table > tbody')))\n",
    "#time.sleep(20)\n",
    "html = driver.page_source"
   ]
  },
  {
   "cell_type": "code",
   "execution_count": 66,
   "metadata": {},
   "outputs": [
    {
     "name": "stdout",
     "output_type": "stream",
     "text": [
      "(주)엑셈\n"
     ]
    }
   ],
   "source": [
    "job_soup = BeautifulSoup(html, 'html.parser')\n",
    "job = word\n",
    "company = job_soup.find('a', {'class':'company'})['title'] # 회사 이름\n",
    "tmp = job_soup.find('사용 기술')\n",
    "#tmp = job_soup.find_all(lambda tag: tag.name == \"div\" and '사용 기술' in tag.text)\n",
    "print ()\n",
    "#tmp = str(job_soup)\n",
    "#with open('../output/job_soup.html', 'w') as wf:\n",
    "#    wf.write(tmp)"
   ]
  },
  {
   "cell_type": "code",
   "execution_count": 54,
   "metadata": {},
   "outputs": [],
   "source": [
    "driver = webdriver.Chrome(chromedriver, options=options)\n",
    "#driver.quit()"
   ]
  },
  {
   "cell_type": "code",
   "execution_count": 8,
   "metadata": {},
   "outputs": [
    {
     "ename": "IndentationError",
     "evalue": "unexpected indent (<ipython-input-8-a17504827d6e>, line 18)",
     "output_type": "error",
     "traceback": [
      "\u001b[1;36m  File \u001b[1;32m\"<ipython-input-8-a17504827d6e>\"\u001b[1;36m, line \u001b[1;32m18\u001b[0m\n\u001b[1;33m    '''\u001b[0m\n\u001b[1;37m    ^\u001b[0m\n\u001b[1;31mIndentationError\u001b[0m\u001b[1;31m:\u001b[0m unexpected indent\n"
     ]
    }
   ],
   "source": [
    "#Data.iloc[Data.shape[0]] = [None, None, None, None, None, None, None, None, search_url]\n",
    "    \n",
    "#\n",
    "search_rec = driver.#copy.deepcopy(driver)\n",
    "click = search_rec.find_element('a', {'class':'data_layer'})\n",
    "click.send_keys(Keys.ENTER)\n",
    "time.sleep(5)\n",
    "    html = search_rec.page_source\n",
    "    #req = requests.get(search_url)\n",
    "    #time.sleep(10)\n",
    "    bs = BeautifulSoup(html.text, 'html.parser')\n",
    "    #with open('test.txt', 'w') as wf:\n",
    "    #    wf.write(str(bs))\n",
    "#    print (bs)\n",
    "    \n",
    "    print (bs.find('a', 'class'))\n",
    "    sys.exit(0)\n",
    "    '''\n",
    "#Data.to_pickle('../results/url.pickle')\n",
    "#Data.to_csv('../results/saramin.csv')"
   ]
  }
 ],
 "metadata": {
  "kernelspec": {
   "display_name": "Python 3",
   "language": "python",
   "name": "python3"
  },
  "language_info": {
   "codemirror_mode": {
    "name": "ipython",
    "version": 3
   },
   "file_extension": ".py",
   "mimetype": "text/x-python",
   "name": "python",
   "nbconvert_exporter": "python",
   "pygments_lexer": "ipython3",
   "version": "3.7.4"
  }
 },
 "nbformat": 4,
 "nbformat_minor": 4
}
