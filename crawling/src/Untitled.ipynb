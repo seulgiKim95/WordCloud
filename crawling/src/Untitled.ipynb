{
 "cells": [
  {
   "cell_type": "code",
   "execution_count": null,
   "metadata": {},
   "outputs": [],
   "source": [
    "# 이미지있으면 이미지처리 -> 관련키워드는 따로\n",
    "# 자격요건 넣기\n",
    "# 랜덤으로 timesleep 주기\n",
    "# 막혔을때 예외처리\n",
    "# 스킬 추가"
   ]
  },
  {
   "cell_type": "code",
   "execution_count": 34,
   "metadata": {},
   "outputs": [],
   "source": [
    "# conda install beautifulsoup4\n",
    "# conda install selenium\n",
    "import time\n",
    "from selenium import webdriver\n",
    "from selenium.webdriver.support import expected_conditions as EC\n",
    "from selenium.webdriver.common.keys import Keys\n",
    "from bs4 import BeautifulSoup\n",
    "import requests\n",
    "from selenium.webdriver.common.by import By\n",
    "from selenium.webdriver.support.ui import WebDriverWait\n",
    "import pandas as pd\n",
    "import random\n",
    "import re"
   ]
  },
  {
   "cell_type": "code",
   "execution_count": 69,
   "metadata": {},
   "outputs": [],
   "source": [
    "def remove_tags(string):\n",
    "    return re.sub('<.+?>', '', str(string), 0).strip()\n",
    "\n",
    "Data = pd.DataFrame({}, columns=[\\\n",
    "    'title','job', 'cname','duties','skills', 'preference', 'welfare', 'loc',\\\n",
    "    'rec type','url'])"
   ]
  },
  {
   "cell_type": "code",
   "execution_count": 5,
   "metadata": {},
   "outputs": [],
   "source": [
    "options = webdriver.ChromeOptions()\n",
    "#options.add_argument('--headless')        ## Head-less 설정\n",
    "#options.add_argument('--no-sandbox')\n",
    "#options.add_argumetn('--blink-setting=imagesEnabled=false') # 이미지 로딩 안함\n",
    "#options.add_argument('--nute-audio') # 음소거\n",
    "options.add_argument('--disable-dev-shm-usage')\n",
    "options.add_argument(\"--disable-site-isolation-trials\")\n",
    "#options.add_argument('--disable-setuid-sandbox')\n",
    "options.add_argument('--incognito') # 시크릿모드\n",
    "options.add_argument('user-agent=Mozilla/5.0 (Windows NT 10.0; Win64; x64)\\\n",
    "    AppleWebKit/537.36 (KHTML, like Gecko) Chrome/103.0.0.0 Safari/537.36') # user와 같은 설정 주기\n",
    "chromedriver = '../data/chromedriver'"
   ]
  },
  {
   "cell_type": "code",
   "execution_count": 7,
   "metadata": {},
   "outputs": [],
   "source": [
    "driver.quit()\n",
    "driver = webdriver.Chrome(chromedriver, options=options) # 크롬 드라이버 설정"
   ]
  },
  {
   "cell_type": "code",
   "execution_count": 8,
   "metadata": {},
   "outputs": [],
   "source": [
    "base_url = 'https://www.jobkorea.co.kr/'\n",
    "driver.get(base_url)\n",
    "search_job = driver.find_element('xpath', '//*[@id=\"stext\"]')\n",
    "word = '데이터 사이언티스트'\n",
    "search_job.send_keys(word+Keys.ENTER)\n",
    "time.sleep(5) # 랜덤으로\n",
    "html = driver.page_source"
   ]
  },
  {
   "cell_type": "code",
   "execution_count": 120,
   "metadata": {},
   "outputs": [],
   "source": [
    "page_soup = BeautifulSoup(html, 'html.parser')\n",
    "recruit_items = page_soup.find_all('li', {'class':'list-post'}) # list-post / list-post active"
   ]
  },
  {
   "cell_type": "code",
   "execution_count": 159,
   "metadata": {},
   "outputs": [
    {
     "name": "stdout",
     "output_type": "stream",
     "text": [
      "https://www.jobkorea.co.kr/Recruit/GI_Read/38870020?Oem_Code=C1&logpath=1&stext=데이터 사이언티스트&listno=3\n"
     ]
    }
   ],
   "source": [
    "####### 각 채용공고당 진행\n",
    "# for-loop start\n",
    "import sys\n",
    "import copy\n",
    "\n",
    "#for recruit in recruits:\n",
    "recruits = recruit_items[2].find('a', {'class':'title dev_view'})\n",
    "rec_url = recruits['href']    \n",
    "base_url = 'https://www.jobkorea.co.kr'\n",
    "search_url = base_url + rec_url\n",
    "print (search_url)\n",
    "#r = requests.get(search_url)\n",
    "driver.get(search_url)\n",
    "stime = 3*random.random()\n",
    "time.sleep(stime)\n",
    "html_job = BeautifulSoup(driver.page_source, 'html.parser')"
   ]
  },
  {
   "cell_type": "code",
   "execution_count": 160,
   "metadata": {},
   "outputs": [],
   "source": [
    "iframe = html_job.find('iframe', {'title':'상세요강'}) # html 내의 document (iframe) 처리\n",
    "driver.switch_to.frame('gib_frame') # iframe으로 옮겨가기\n",
    "stime = 3*random.random()\n",
    "time.sleep(stime)\n",
    "html_iframe = BeautifulSoup(driver.page_source, 'html.parser')"
   ]
  },
  {
   "cell_type": "code",
   "execution_count": 161,
   "metadata": {},
   "outputs": [
    {
     "name": "stdout",
     "output_type": "stream",
     "text": [
      "title :  마이셀럽스 채용 - [마이셀럽스] 데이터 사이언티스트 정규직 채용 | 잡코리아\n",
      "job :  데이터 사이언티스트\n",
      "company :  (주)마이셀럽스\n",
      "url :  https://www.jobkorea.co.kr/Recruit/GI_Read/38870020?Oem_Code=C1&logpath=1&stext=데이터 사이언티스트&listno=3\n",
      "keyword :  IT분야 직무채용관, 빅데이터·AI(인공지능), 자연어처리(NLP), 데이터분석, 솔루션·SI·CRM·ERP, 모바일앱개발, 소프트웨어개발, 솔루션, \n",
      "loc :  서울 > 강남구\n",
      "rec type :  경력(3년이상)\n"
     ]
    }
   ],
   "source": [
    "title = remove_tags(html_job.find('title'))\n",
    "job = word\n",
    "company = remove_tags(html_job.find('span', {'class':'coName'}))\n",
    "html_str = str(html_iframe)\n",
    "url = search_url\n",
    "print ('title : ', title)\n",
    "print ('job : ', job)\n",
    "print ('company : ', company)\n",
    "print ('url : ', url)\n",
    "\n",
    "# keywords and location\n",
    "keyword = ''\n",
    "loc = ''\n",
    "assoc_keyword = html_job.find('article', {'id':'artKeywordSearch'})\n",
    "for key in assoc_keyword.find_all('li'):\n",
    "    if str(key).find('btnLocal') > -1:\n",
    "        loc = remove_tags(key).replace('&gt;', '>')\n",
    "        continue\n",
    "    keyword += remove_tags(key) + ', '\n",
    "print ('keyword : ', keyword)\n",
    "print ('loc : ', loc)\n",
    "\n",
    "# rec type\n",
    "rec = ''\n",
    "apply_qual = remove_tags(html_job.find('dl', {'class':'tbList'})).replace('\\n','')\n",
    "apply_qual1 = apply_qual.find('경력')\n",
    "apply_qual2 = apply_qual.find('학력')\n",
    "if apply_qual2 >= 0:\n",
    "    rec = apply_qual[apply_qual1+2:apply_qual2].replace(' ','')\n",
    "else:\n",
    "    rec = apply_qual[apply_qual1+2:].replace(' ','')\n",
    "print ('rec type : ', rec)"
   ]
  },
  {
   "cell_type": "code",
   "execution_count": 177,
   "metadata": {},
   "outputs": [
    {
     "name": "stdout",
     "output_type": "stream",
     "text": [
      "duties : \n",
      " 담당업무\n",
      "ㆍ자연어 기반 추천 서비스를 위한 알고리즘 모델링\n",
      "ㆍ딥러닝 모델의 최적화/경량화 연구 및 개발\n",
      "ㆍ콘텐츠 추천 시스템 연구 및 개발\n",
      "\n",
      "\n",
      "skills : \n",
      " 자격요건\n",
      "ㆍ학력 : 학력무관\n",
      "ㆍ새로운 기술을 탐색하여 적용할 수 있는 분\n",
      "ㆍ팀원과 소통하며 이슈를 공유하고 함께 연구/해결가능한 분\n",
      "ㆍ자연어처리 혹은 이미지 기반 모델 생성 경험\n",
      "ㆍTensorflow / Pytorch 등 딥러닝 라이브러리 숙달\n",
      "\n",
      "\n",
      "preference : \n",
      " 모집분야 및 자격요건\n",
      "우대사항\n",
      "ㆍ머신러닝, 통계 관련 석사 / 박사\n",
      "ㆍTransformer / BERT 등 NLP 딥러닝 모델 이해 또는 활용의 경험 여부\n",
      "ㆍ딥러닝 모델의 최적화/경량화 연구 및 개발\n",
      "ㆍML/AI 실무경력 3년 이상 혹은 이에 상응하는 역량\n",
      "ㆍ인공지능 시스템을 상용 서비스로 운영해보신 분\n",
      "\n",
      "제출서류\n",
      "ㆍ포트폴리오 (필수사항 x)\n",
      "\n",
      "복리후생\n",
      "ㆍ연차 상관 없는 높은 연봉 상승율, 스톡옵션\n",
      "ㆍ수평적인 문화 제도 (님/닉네임 사용)\n",
      "ㆍ출퇴근 접근성이 좋은 강남 소재 사무실\n",
      "ㆍ최고급 장비 지원 (맥북프로, 듀얼 모니터) 제공\n",
      "ㆍ휴게실 및 음료 (차, 커피 등) 무제한 제공\n",
      "ㆍ월별 업무관련 도서구입비 지원 및 세미나 참가비 지원\n",
      "ㆍ생일휴가(유급) 및 선물 지급\n",
      "\n",
      "\n",
      "전형절차\n",
      "ㆍ서류전형 &gt; 면접 &gt; 최종합격\n",
      "ㆍ면접일정은 추후 통보됩니다.\n",
      "\n",
      "\n",
      "유의사항\n",
      "ㆍ허위사실이 발견될 경우 채용이 취소될 수 있습니다.\n",
      "\n",
      "\n",
      "welfare : \n",
      " \n"
     ]
    }
   ],
   "source": [
    "# 상세 채용 정보 내용\n",
    "duties = ''\n",
    "skills = ''\n",
    "preference = ''\n",
    "welfare = ''\n",
    "\n",
    "content = html_iframe.find('div', {'class':'detailed-summary-contents'})\n",
    "content_table = html_iframe.find('div', {'class':'recruitment'})\n",
    "content_lines = content_table.find('div', {'class':'recruitment-item'})\n",
    "\n",
    "ps = content.find_all('p')\n",
    "for ip in ps:\n",
    "    # duties\n",
    "    str_ip = remove_tags(ip)\n",
    "    if str(ip).find(\"<b>\") > -1: # bold체로 구분한 경우\n",
    "        case = -1\n",
    "        if '담당업무' in str(ip): # duties\n",
    "            case = 1\n",
    "        elif any([needs in str(ip) for needs in ['필수', '자격']]): # skills\n",
    "            case = 2\n",
    "        elif '우대' in str(ip): # preference\n",
    "            case = 3\n",
    "        elif any([i in str(ip) for i in ['복지', '복리']]): # welfare\n",
    "            case = 4\n",
    "        else:\n",
    "            case = -1\n",
    "    if case == 1: # duties\n",
    "        duties += str_ip + '\\n'\n",
    "    elif case == 2: # skills\n",
    "        skills += str_ip + '\\n'\n",
    "    elif case == 3: # preference\n",
    "        preference += str_ip + '\\n'\n",
    "    elif case == 4: # welfare\n",
    "        welfare += str_ip + '\\n'\n",
    "        \n",
    "print ('duties : \\n',duties)\n",
    "print ('skills : \\n',skills)\n",
    "print ('preference : \\n',preference)\n",
    "print ('welfare : \\n',welfare)"
   ]
  },
  {
   "cell_type": "code",
   "execution_count": 174,
   "metadata": {},
   "outputs": [
    {
     "name": "stdout",
     "output_type": "stream",
     "text": [
      "[<p class=\"heading\"><i class=\"icon-header dev-case-type case1\"></i>모집분야 및 자격요건</p>, <p><b><br/></b></p>, <p><b><br/></b></p>, <p><b><br/></b></p>, <p><b><br/></b></p>, <p><b><br/></b></p>, <p><b><br/></b></p>, <p><b><br/></b></p>, <p><b><br/></b></p>, <p><b><br/></b></p>, <p><b>데이터 사이언티스트</b> </p>, <p>( ○명 ) </p>, <p><b>담당업무</b></p>, <p>ㆍ자연어 기반 추천 서비스를 위한 알고리즘 모델링</p>, <p>ㆍ딥러닝 모델의 최적화/경량화 연구 및 개발</p>, <p>ㆍ콘텐츠 추천 시스템 연구 및 개발</p>, <p><br/></p>, <p><b>자격요건</b></p>, <p>ㆍ학력 : 학력무관</p>, <p>ㆍ새로운 기술을 탐색하여 적용할 수 있는 분</p>, <p>ㆍ팀원과 소통하며 이슈를 공유하고 함께 연구/해결가능한 분<br/></p>, <p>ㆍ자연어처리 혹은 이미지 기반 모델 생성 경험<br/></p>, <p>ㆍTensorflow / Pytorch 등 딥러닝 라이브러리 숙달</p>, <p><br/></p>, <p><b>우대사항</b></p>, <p>ㆍ머신러닝, 통계 관련 석사 / 박사</p>, <p>ㆍTransformer / BERT 등 NLP 딥러닝 모델 이해 또는 활용의 경험 여부</p>, <p>ㆍ딥러닝 모델의 최적화/경량화 연구 및 개발</p>, <p>ㆍML/AI 실무경력 3년 이상 혹은 이에 상응하는 역량</p>, <p>ㆍ인공지능 시스템을 상용 서비스로 운영해보신 분</p>, <p><br/></p>, <p><span style=\"font-weight: 700;\">제출서류</span></p>, <p>ㆍ포트폴리오 (필수사항 x)</p>, <p><br/></p>, <p class=\"heading\" style=\"margin-bottom: 10px; font-size: 30px;\"><i class=\"icon-header dev-case-type case1\"></i>복리후생</p>, <p style=\"padding-top: 1px; padding-bottom: 1px;\">ㆍ연차 상관 없는 높은 연봉 상승율, 스톡옵션</p>, <p style=\"padding-top: 1px; padding-bottom: 1px;\">ㆍ수평적인 문화 제도 (님/닉네임 사용)</p>, <p style=\"padding-top: 1px; padding-bottom: 1px;\">ㆍ출퇴근 접근성이 좋은 강남 소재 사무실</p>, <p style=\"padding-top: 1px; padding-bottom: 1px;\">ㆍ최고급 장비 지원 (맥북프로, 듀얼 모니터) 제공</p>, <p style=\"padding-top: 1px; padding-bottom: 1px;\">ㆍ휴게실 및 음료 (차, 커피 등) 무제한 제공</p>, <p style=\"padding-top: 1px; padding-bottom: 1px;\">ㆍ월별 업무관련 도서구입비 지원 및 세미나 참가비 지원</p>, <p style=\"padding-top: 1px; padding-bottom: 1px;\">ㆍ생일휴가(유급) 및 선물 지급</p>, <p style=\"padding-top: 1px; padding-bottom: 1px;\"><br/></p>, <p style=\"padding-top: 1px; padding-bottom: 1px;\"><br/></p>, <p class=\"heading\"><i class=\"icon-header dev-case-type case1\"></i>전형절차</p>, <p>ㆍ서류전형 &gt; 면접 &gt; 최종합격</p>, <p>ㆍ면접일정은 추후 통보됩니다.</p>, <p><br/></p>, <p><br/></p>, <p class=\"heading\"><i class=\"icon-header dev-case-type case1\"></i>유의사항</p>, <p>ㆍ허위사실이 발견될 경우 채용이 취소될 수 있습니다.</p>, <p><br/></p>]\n",
      "welfare :  \n"
     ]
    }
   ],
   "source": [
    "welfare = ''\n",
    "content = html_iframe.find('div', {'class':'detailed-summary-contents'})\n",
    "print(content.find_all('p'))\n",
    "\n",
    "\n",
    "print ('welfare : ',welfare)\n",
    "\n",
    "\n",
    "#print (Data)"
   ]
  },
  {
   "cell_type": "code",
   "execution_count": 169,
   "metadata": {},
   "outputs": [
    {
     "data": {
      "text/html": [
       "<div>\n",
       "<style scoped>\n",
       "    .dataframe tbody tr th:only-of-type {\n",
       "        vertical-align: middle;\n",
       "    }\n",
       "\n",
       "    .dataframe tbody tr th {\n",
       "        vertical-align: top;\n",
       "    }\n",
       "\n",
       "    .dataframe thead th {\n",
       "        text-align: right;\n",
       "    }\n",
       "</style>\n",
       "<table border=\"1\" class=\"dataframe\">\n",
       "  <thead>\n",
       "    <tr style=\"text-align: right;\">\n",
       "      <th></th>\n",
       "      <th>title</th>\n",
       "      <th>job</th>\n",
       "      <th>cname</th>\n",
       "      <th>duties</th>\n",
       "      <th>skills</th>\n",
       "      <th>preference</th>\n",
       "      <th>welfare</th>\n",
       "      <th>loc</th>\n",
       "      <th>rec type</th>\n",
       "      <th>url</th>\n",
       "    </tr>\n",
       "  </thead>\n",
       "  <tbody>\n",
       "    <tr>\n",
       "      <td>0</td>\n",
       "      <td>카카오뱅크 채용 - [빅데이터분석] 데이터 사이언티스트 | 잡코리아</td>\n",
       "      <td>데이터 사이언티스트</td>\n",
       "      <td>카카오뱅크</td>\n",
       "      <td>담당업무\\nㆍ머신러닝을 이용한 이상거래 탐지 모형 개발\\nㆍ머신러닝을 활용한 FDS...</td>\n",
       "      <td>필수 경험과 역량\\nㆍ머신러닝을 통한 업무 경험 또는 문제해결 경험이 3년 이상인 ...</td>\n",
       "      <td>우대사항\\nㆍ금융사기 방지를 위한 이상탐지 분석 및 모형 개발 경험이 있는 분\\nㆍ...</td>\n",
       "      <td></td>\n",
       "      <td>경기 &gt; 성남시 분당구</td>\n",
       "      <td>경력</td>\n",
       "      <td>https://www.jobkorea.co.kr/Recruit/GI_Read/390...</td>\n",
       "    </tr>\n",
       "    <tr>\n",
       "      <td>1</td>\n",
       "      <td>마이셀럽스 채용 - [마이셀럽스] 데이터 사이언티스트 정규직 채용 | 잡코리아</td>\n",
       "      <td>데이터 사이언티스트</td>\n",
       "      <td>(주)마이셀럽스</td>\n",
       "      <td>담당업무\\nㆍ자연어 기반 추천 서비스를 위한 알고리즘 모델링\\nㆍ딥러닝 모델의 최적...</td>\n",
       "      <td></td>\n",
       "      <td>우대사항\\nㆍ머신러닝, 통계 관련 석사 / 박사\\nㆍTransformer / BER...</td>\n",
       "      <td></td>\n",
       "      <td>서울 &gt; 강남구</td>\n",
       "      <td>경력(3년이상)</td>\n",
       "      <td>https://www.jobkorea.co.kr/Recruit/GI_Read/388...</td>\n",
       "    </tr>\n",
       "    <tr>\n",
       "      <td>2</td>\n",
       "      <td>마이셀럽스 채용 - [마이셀럽스] 데이터 사이언티스트 정규직 채용 | 잡코리아</td>\n",
       "      <td>데이터 사이언티스트</td>\n",
       "      <td>(주)마이셀럽스</td>\n",
       "      <td>담당업무\\nㆍ자연어 기반 추천 서비스를 위한 알고리즘 모델링\\nㆍ딥러닝 모델의 최적...</td>\n",
       "      <td>자격요건\\nㆍ학력 : 학력무관\\nㆍ새로운 기술을 탐색하여 적용할 수 있는 분\\nㆍ팀...</td>\n",
       "      <td>우대사항\\nㆍ머신러닝, 통계 관련 석사 / 박사\\nㆍTransformer / BER...</td>\n",
       "      <td></td>\n",
       "      <td>서울 &gt; 강남구</td>\n",
       "      <td>경력(3년이상)</td>\n",
       "      <td>https://www.jobkorea.co.kr/Recruit/GI_Read/388...</td>\n",
       "    </tr>\n",
       "  </tbody>\n",
       "</table>\n",
       "</div>"
      ],
      "text/plain": [
       "                                         title         job     cname  \\\n",
       "0        카카오뱅크 채용 - [빅데이터분석] 데이터 사이언티스트 | 잡코리아  데이터 사이언티스트     카카오뱅크   \n",
       "1  마이셀럽스 채용 - [마이셀럽스] 데이터 사이언티스트 정규직 채용 | 잡코리아  데이터 사이언티스트  (주)마이셀럽스   \n",
       "2  마이셀럽스 채용 - [마이셀럽스] 데이터 사이언티스트 정규직 채용 | 잡코리아  데이터 사이언티스트  (주)마이셀럽스   \n",
       "\n",
       "                                              duties  \\\n",
       "0  담당업무\\nㆍ머신러닝을 이용한 이상거래 탐지 모형 개발\\nㆍ머신러닝을 활용한 FDS...   \n",
       "1  담당업무\\nㆍ자연어 기반 추천 서비스를 위한 알고리즘 모델링\\nㆍ딥러닝 모델의 최적...   \n",
       "2  담당업무\\nㆍ자연어 기반 추천 서비스를 위한 알고리즘 모델링\\nㆍ딥러닝 모델의 최적...   \n",
       "\n",
       "                                              skills  \\\n",
       "0  필수 경험과 역량\\nㆍ머신러닝을 통한 업무 경험 또는 문제해결 경험이 3년 이상인 ...   \n",
       "1                                                      \n",
       "2  자격요건\\nㆍ학력 : 학력무관\\nㆍ새로운 기술을 탐색하여 적용할 수 있는 분\\nㆍ팀...   \n",
       "\n",
       "                                          preference welfare           loc  \\\n",
       "0  우대사항\\nㆍ금융사기 방지를 위한 이상탐지 분석 및 모형 개발 경험이 있는 분\\nㆍ...          경기 > 성남시 분당구   \n",
       "1  우대사항\\nㆍ머신러닝, 통계 관련 석사 / 박사\\nㆍTransformer / BER...              서울 > 강남구   \n",
       "2  우대사항\\nㆍ머신러닝, 통계 관련 석사 / 박사\\nㆍTransformer / BER...              서울 > 강남구   \n",
       "\n",
       "   rec type                                                url  \n",
       "0        경력  https://www.jobkorea.co.kr/Recruit/GI_Read/390...  \n",
       "1  경력(3년이상)  https://www.jobkorea.co.kr/Recruit/GI_Read/388...  \n",
       "2  경력(3년이상)  https://www.jobkorea.co.kr/Recruit/GI_Read/388...  "
      ]
     },
     "execution_count": 169,
     "metadata": {},
     "output_type": "execute_result"
    }
   ],
   "source": [
    "# Data에 저장\n",
    "length = Data.shape[0]\n",
    "Data.loc[length] = [title, job, company, duties, skills, preference, welfare, loc, rec, url]\n",
    "Data"
   ]
  },
  {
   "cell_type": "code",
   "execution_count": 164,
   "metadata": {},
   "outputs": [
    {
     "name": "stdout",
     "output_type": "stream",
     "text": [
      "https://www.jobkorea.co.kr/Recruit/GI_Read/38870020?Oem_Code=C1&logpath=1&stext=데이터 사이언티스트&listno=3\n"
     ]
    }
   ],
   "source": [
    "print (url)"
   ]
  },
  {
   "cell_type": "code",
   "execution_count": 148,
   "metadata": {},
   "outputs": [],
   "source": [
    "# Data초기화\n",
    "Data = pd.DataFrame({}, columns=[\\\n",
    "    'title','job', 'cname','duties','skills', 'preference', 'welfare', 'loc',\\\n",
    "    'rec type','url'])"
   ]
  },
  {
   "cell_type": "code",
   "execution_count": 111,
   "metadata": {},
   "outputs": [],
   "source": [
    "driver.quit()"
   ]
  }
 ],
 "metadata": {
  "kernelspec": {
   "display_name": "Python 3",
   "language": "python",
   "name": "python3"
  },
  "language_info": {
   "codemirror_mode": {
    "name": "ipython",
    "version": 3
   },
   "file_extension": ".py",
   "mimetype": "text/x-python",
   "name": "python",
   "nbconvert_exporter": "python",
   "pygments_lexer": "ipython3",
   "version": "3.7.4"
  }
 },
 "nbformat": 4,
 "nbformat_minor": 4
}
