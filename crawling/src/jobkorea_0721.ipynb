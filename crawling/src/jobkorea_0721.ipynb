{
 "cells": [
  {
   "cell_type": "code",
   "execution_count": 1,
   "metadata": {},
   "outputs": [],
   "source": [
    "# 이미지있으면 이미지처리 -> 관련키워드는 따로\n",
    "# 자격요건 넣기\n",
    "# 랜덤으로 timesleep 주기\n",
    "# 막혔을때 예외처리\n",
    "# 스킬 추가"
   ]
  },
  {
   "cell_type": "code",
   "execution_count": 80,
   "metadata": {},
   "outputs": [],
   "source": [
    "# conda install beautifulsoup4\n",
    "# conda install selenium\n",
    "import time\n",
    "from selenium import webdriver\n",
    "from selenium.webdriver.support import expected_conditions as EC\n",
    "from selenium.webdriver.common.keys import Keys\n",
    "from bs4 import BeautifulSoup\n",
    "import requests\n",
    "from selenium.webdriver.common.by import By\n",
    "from selenium.webdriver.support.ui import WebDriverWait\n",
    "import pandas as pd\n",
    "import random\n",
    "import re\n",
    "import numpy as np"
   ]
  },
  {
   "cell_type": "code",
   "execution_count": 3,
   "metadata": {},
   "outputs": [],
   "source": [
    "def remove_tags(string):\n",
    "    return re.sub('<.+?>', '', str(string), 0).strip()\n",
    "\n",
    "Data = pd.DataFrame({}, columns=[\\\n",
    "    'title','job', 'cname','duties','skills', 'preference', 'welfare', 'loc',\\\n",
    "    'rec type','url'])"
   ]
  },
  {
   "cell_type": "code",
   "execution_count": 5,
   "metadata": {},
   "outputs": [],
   "source": [
    "options = webdriver.ChromeOptions()\n",
    "options.add_argument('--headless')        ## Head-less 설정\n",
    "#options.add_argument('--no-sandbox')\n",
    "#options.add_argumetn('--blink-setting=imagesEnabled=false') # 이미지 로딩 안함\n",
    "#options.add_argument('--nute-audio') # 음소거\n",
    "options.add_argument('--disable-dev-shm-usage')\n",
    "options.add_argument(\"--disable-site-isolation-trials\")\n",
    "#options.add_argument('--disable-setuid-sandbox')\n",
    "options.add_argument('--incognito') # 시크릿모드\n",
    "options.add_argument('user-agent=Mozilla/5.0 (Windows NT 10.0; Win64; x64)\\\n",
    "    AppleWebKit/537.36 (KHTML, like Gecko) Chrome/103.0.0.0 Safari/537.36') # user와 같은 설정 주기\n",
    "chromedriver = '../data/chromedriver'"
   ]
  },
  {
   "cell_type": "code",
   "execution_count": 7,
   "metadata": {},
   "outputs": [],
   "source": [
    "#driver.quit()\n",
    "driver = webdriver.Chrome(chromedriver, options=options) # 크롬 드라이버 설정"
   ]
  },
  {
   "cell_type": "code",
   "execution_count": 8,
   "metadata": {},
   "outputs": [],
   "source": [
    "base_url = 'https://www.jobkorea.co.kr/'\n",
    "driver.get(base_url)\n",
    "search_job = driver.find_element('xpath', '//*[@id=\"stext\"]')\n",
    "word = '데이터 사이언티스트'\n",
    "search_job.send_keys(word+Keys.ENTER)\n",
    "time.sleep(5) # 랜덤으로\n",
    "html = driver.page_source"
   ]
  },
  {
   "cell_type": "code",
   "execution_count": 9,
   "metadata": {},
   "outputs": [],
   "source": [
    "page_soup = BeautifulSoup(html, 'html.parser')\n",
    "recruit_items = page_soup.find_all('li', {'class':'list-post'}) # list-post / list-post active"
   ]
  },
  {
   "cell_type": "code",
   "execution_count": 96,
   "metadata": {},
   "outputs": [
    {
     "name": "stdout",
     "output_type": "stream",
     "text": [
      "https://www.jobkorea.co.kr/Recruit/GI_Read/38778532?Oem_Code=C1&logpath=1&stext=데이터 사이언티스트&listno=6\n"
     ]
    }
   ],
   "source": [
    "####### 각 채용공고당 진행\n",
    "# for-loop start\n",
    "import sys\n",
    "import copy\n",
    "\n",
    "#for recruit in recruits:\n",
    "recruits = recruit_items[5].find('a', {'class':'title dev_view'})\n",
    "rec_url = recruits['href']\n",
    "base_url = 'https://www.jobkorea.co.kr'\n",
    "search_url = base_url + rec_url\n",
    "print (search_url)\n",
    "#r = requests.get(search_url)\n",
    "driver.get(search_url)\n",
    "stime = 1+ 3*random.random()\n",
    "time.sleep(stime)\n",
    "html_job = BeautifulSoup(driver.page_source, 'html.parser')"
   ]
  },
  {
   "cell_type": "code",
   "execution_count": 97,
   "metadata": {},
   "outputs": [],
   "source": [
    "iframe = html_job.find('iframe', {'title':'상세요강'}) # html 내의 document (iframe) 처리\n",
    "driver.switch_to.frame('gib_frame') # iframe으로 옮겨가기\n",
    "stime = 1.+ 3*random.random()\n",
    "time.sleep(stime)\n",
    "html_iframe = BeautifulSoup(driver.page_source, 'html.parser')"
   ]
  },
  {
   "cell_type": "code",
   "execution_count": 98,
   "metadata": {},
   "outputs": [
    {
     "name": "stdout",
     "output_type": "stream",
     "text": [
      "title :  카비 채용 - [CARVI] 데이터사이언티스트 총괄 | 잡코리아\n",
      "job :  데이터 사이언티스트\n",
      "company :  ㈜카비\n",
      "url :  https://www.jobkorea.co.kr/Recruit/GI_Read/38778532?Oem_Code=C1&logpath=1&stext=데이터 사이언티스트&listno=6\n",
      "keyword :  우수벤처기업 공동채용관, IT분야 직무채용관, DBA·데이터베이스, 데이터마이닝, 웹프로그래머, MySQL, Python, SQL, 빅데이터·AI(인공지능), 인공지능(AI), 빅데이터, 머신러닝(ML), 딥러닝, 데이터분석, 데이터사이언스, 데이터사이언티스트, 데이터애널리스트, data, Data Scientist, data science, 솔루션·SI·CRM·ERP, 모바일앱개발, 소프트웨어개발, 솔루션, BigData, DataMining, \n",
      "loc :  서울 > 금천구\n",
      "rec type :  경력(7년이상)\n"
     ]
    }
   ],
   "source": [
    "title = remove_tags(html_job.find('title'))\n",
    "job = word\n",
    "company = remove_tags(html_job.find('span', {'class':'coName'}))\n",
    "html_str = str(html_iframe)\n",
    "url = search_url\n",
    "print ('title : ', title)\n",
    "print ('job : ', job)\n",
    "print ('company : ', company)\n",
    "print ('url : ', url)\n",
    "\n",
    "# keywords and location\n",
    "keyword = ''\n",
    "loc = ''\n",
    "assoc_keyword = html_job.find('article', {'id':'artKeywordSearch'})\n",
    "for key in assoc_keyword.find_all('li'):\n",
    "    if str(key).find('btnLocal') > -1:\n",
    "        loc = remove_tags(key).replace('&gt;', '>')\n",
    "        continue\n",
    "    keyword += remove_tags(key) + ', '\n",
    "print ('keyword : ', keyword)\n",
    "print ('loc : ', loc)\n",
    "\n",
    "# rec type\n",
    "rec = ''\n",
    "apply_qual = remove_tags(html_job.find('dl', {'class':'tbList'})).replace('\\n','')\n",
    "apply_qual1 = apply_qual.find('경력')\n",
    "apply_qual2 = apply_qual.find('학력')\n",
    "if apply_qual2 >= 0:\n",
    "    rec = apply_qual[apply_qual1+2:apply_qual2].replace(' ','')\n",
    "else:\n",
    "    rec = apply_qual[apply_qual1+2:].replace(' ','')\n",
    "print ('rec type : ', rec)"
   ]
  },
  {
   "cell_type": "code",
   "execution_count": 99,
   "metadata": {},
   "outputs": [
    {
     "name": "stdout",
     "output_type": "stream",
     "text": [
      "duties : \n",
      " \n",
      "skills : \n",
      " \n",
      "preference : \n",
      " \n",
      "welfare : \n",
      " \n"
     ]
    }
   ],
   "source": [
    "# 상세 채용 정보 내용\n",
    "duties = ''\n",
    "skills = ''\n",
    "preference = ''\n",
    "welfare = ''\n",
    "\n",
    "\n",
    "content = html_iframe.find('div', {'class':'detailed-summary-contents'})\n",
    "img = html_iframe.find('div', {'class':'detailReadImg'})\n",
    "if str(content) != 'None':\n",
    "    content_table = html_iframe.find('div', {'class':'recruitment'})\n",
    "    content_lines = content_table.find('div', {'class':'recruitment-item'})\n",
    "\n",
    "    ps = content.find_all('p')\n",
    "    for ip in ps:\n",
    "        # duties\n",
    "        str_ip = remove_tags(ip)\n",
    "        if '담당업무' in str(ip): # duties\n",
    "            case = 1\n",
    "        elif any([needs in str(ip) for needs in ['필수', '자격']]): # skills\n",
    "            case = 2\n",
    "        elif '우대' in str(ip): # preference\n",
    "            case = 3\n",
    "        elif any([i in str(ip) for i in ['복지', '복리']]): # welfare\n",
    "            case = 4\n",
    "        elif any([i in str(ip) for i in ['전형절차']]):\n",
    "            case = -1\n",
    "        try:\n",
    "            if case == 1: # duties\n",
    "                duties += str_ip + '\\n'\n",
    "            elif case == 2: # skills\n",
    "                skills += str_ip + '\\n'\n",
    "            elif case == 3: # preference\n",
    "                preference += str_ip + '\\n'\n",
    "            elif case == 4: # welfare\n",
    "                welfare += str_ip + '\\n'\n",
    "            elif case == -1: # others\n",
    "                print ('other : ',str_ip)\n",
    "        except NameError:\n",
    "            pass\n",
    "elif str(img) != 'None':\n",
    "    #table = img.find('div', {'class':'tbDetailWrap tbDetailType_3 ct va tbBgNone'})\n",
    "    #print (table)\n",
    "    pass\n",
    "    \n",
    "        \n",
    "        \n",
    "print ('duties : \\n',duties)\n",
    "print ('skills : \\n',skills)\n",
    "print ('preference : \\n',preference)\n",
    "print ('welfare : \\n',welfare)"
   ]
  },
  {
   "cell_type": "code",
   "execution_count": 45,
   "metadata": {
    "collapsed": true,
    "jupyter": {
     "outputs_hidden": true,
     "source_hidden": true
    }
   },
   "outputs": [
    {
     "name": "stdout",
     "output_type": "stream",
     "text": [
      "[<p class=\"heading\"><i class=\"icon-header dev-case-type case2\"></i>모집분야 및 자격요건</p>, <p><b>서비스분석</b><br class=\"default\"/>( 0명 ) </p>, <p><b>담당업무</b></p>, <p>ㆍ추천/개인화 모형 개발</p>, <p>ㆍ고객 행동 예측 및 세그멘테이션</p>, <p>ㆍ전사 데이터 분석을 통한 이슈 파악 및 과제 해결</p>, <p>ㆍfeature store 및 데이터 마트를 위한 변수 발굴 및 정의</p>, <p><br/></p>, <p><b>필수 경험과 역량</b> </p>, <p>ㆍ데이터 분석 및 모델링을 통해 비즈니스 문제를 해결한 경험이 있는 분</p>, <p>ㆍ모형개발 분야 3년 이상의 업무 경험이 있는 분</p>, <p>ㆍ통계학, 컴퓨터공학, 산업공학, 수학 및 기타 유사 학문을 전공한 분</p>, <p><br/></p>, <p><b>우대사항</b></p>, <p>ㆍ추천시스템/NLP/Graph Neural Network에 대한 이해가 있는 분<br/></p>, <p>ㆍTensorFlow/PyTorch와 같은 딥러닝 프레임워크를 잘 활용하는 분</p>, <p>ㆍHadoop/Spark 등을 활용한 대용량 데이터 처리 및 분석 경험이 있는 분</p>, <p>ㆍ데이터 엔지니어 및 타 팀과의 커뮤니케이션이 원활한 분</p>, <p>ㆍ데이터 마트 설계 및 구축 경험(운영)이 있는 분</p>, <p><br/></p>, <p><b>공통 우대 사항</b></p>, <p>ㆍ국가유공자 및 장애인 등 취업보호대상자는 관계 법령에 따라 우대합니다. </p>, <p>   (입사지원 시 증빙서류를 첨부하는 경우에 해당하며, 증빙서류는 포트폴리오 란에 </p>, <p>    첨부해주시길 바랍니다.)</p>, <p><br/></p>, <p class=\"heading\"><i class=\"icon-header dev-case-type case2\"></i>근무 관련 정보</p>, <p>ㆍ근무형태 : 정규직</p>, <p>ㆍ근무지 : 카카오뱅크 판교오피스 (경기도 성남시 분당구 분당내곡로 131) </p>, <p>ㆍ근무부서 : 서비스분석팀</p>, <p><br/></p>, <p class=\"heading\"><i class=\"icon-header dev-case-type case2\"></i>전형절차</p>, <p>ㆍ<b>서류전형 → 코딩테스트전형 → 1차 실무진 면접전형 → 2차 경영진 면접전형 → 연봉 및 처우협의 → 최종합격</b></p>, <p>  - 각 전형 결과 및 면접 일정은 홈페이지 및 메일을 통해 개별적으로 안내 드리고 있습니다. </p>, <p>ㆍ서류전형 결과 발표일 : 2022년 8월 16일 화요일 이내</p>, <p>ㆍ입사지원서 제출일의 익월 중순까지 서류전형 결과를 안내 드리고 있습니다.</p>, <p>ㆍ공고에 게시된 서류전형 결과 발표일보다 전형 결과 안내가 늦어질 경우 개별적으로 연락 드릴 예정입니다. </p>, <p><br/></p>, <p class=\"heading\" style=\"margin-bottom: 10px;\"><i class=\"icon-header dev-case-type case2\"></i>접수기간 및 방법</p>, <p style=\"padding-top: 1px; padding-bottom: 1px;\">ㆍ접수기간 : <b><span style=\"color: rgb(255, 0, 0);\">2022. 07. 20(수) ~ 2022. 07. 31(일) 23:59 </span></b></p>, <p style=\"padding-top: 1px; padding-bottom: 1px;\">ㆍ접수방법 :<b><span style=\"color: rgb(0, 117, 200);\"> 당사 채용 홈페이지 온라인 지원</span></b></p>, <p style=\"padding-top: 1px; padding-bottom: 1px;\">ㆍ모집기간 : 영입 완료시 마감</p>, <p style=\"padding-top: 1px; padding-bottom: 1px;\">ㆍ영입 완료 시 조기에 마감될 수 있는 수시채용으로 진행 중입니다.</p>, <p style=\"padding-top: 1px; padding-bottom: 1px;\">ㆍ영입이 완료될 경우 해당월 말일로 설정된 공고 마감일이 도래하지 않더라도 일찍 마감될 수 있습니다. </p>, <p style=\"padding-top: 1px; padding-bottom: 1px;\">ㆍ영입이 완료되기 전까지 매월 1일 새롭게 공고가 업로드 됩니다. (*전월 공고에 제출한 입사지원서는 정상적으로 검토 진행)</p>, <p style=\"padding-top: 1px; padding-bottom: 1px;\"><br/></p>, <p class=\"heading\" style=\"margin-bottom: 10px;\"><i class=\"icon-header dev-case-type case2\"></i>기타사항</p>, <p style=\"padding-top: 1px; padding-bottom: 1px;\">ㆍ입사지원서에 기재된 내용은 증빙자료 제출을 통해 확인하고 있습니다. </p>, <p style=\"padding-top: 1px; padding-bottom: 1px;\">   기재된 내용이 사실과 다를 경우 입사가 취소될 수 있음을 유의하여 주시길 바랍니다. </p>, <p style=\"padding-top: 1px; padding-bottom: 1px;\">ㆍ부정한 채용 청탁을 한 사실이 밝혀질 경우 입사가 취소될 수 있음을 유의하여 주시길 바랍니다. </p>, <p style=\"padding-top: 1px; padding-bottom: 1px;\">ㆍ카카오뱅크 내규에 따라 채용 금지자에 해당하는 분은 입사가 어려움을 유의하여 주시길 바랍니다.</p>, <p style=\"padding-top: 1px; padding-bottom: 1px;\">ㆍ자세한 상세요강은 반드시 채용 홈페이지에서 직접 확인해 주시기 바랍니다.<br/></p>]\n",
      "welfare :  \n"
     ]
    }
   ],
   "source": [
    "welfare = ''\n",
    "content = html_iframe.find('div', {'class':'detailed-summary-contents'})\n",
    "print(content.find_all('p'))\n",
    "\n",
    "\n",
    "print ('welfare : ',welfare)\n",
    "\n",
    "\n",
    "#print (Data)"
   ]
  },
  {
   "cell_type": "code",
   "execution_count": 101,
   "metadata": {},
   "outputs": [
    {
     "data": {
      "text/html": [
       "<div>\n",
       "<style scoped>\n",
       "    .dataframe tbody tr th:only-of-type {\n",
       "        vertical-align: middle;\n",
       "    }\n",
       "\n",
       "    .dataframe tbody tr th {\n",
       "        vertical-align: top;\n",
       "    }\n",
       "\n",
       "    .dataframe thead th {\n",
       "        text-align: right;\n",
       "    }\n",
       "</style>\n",
       "<table border=\"1\" class=\"dataframe\">\n",
       "  <thead>\n",
       "    <tr style=\"text-align: right;\">\n",
       "      <th></th>\n",
       "      <th>title</th>\n",
       "      <th>job</th>\n",
       "      <th>cname</th>\n",
       "      <th>duties</th>\n",
       "      <th>skills</th>\n",
       "      <th>preference</th>\n",
       "      <th>welfare</th>\n",
       "      <th>loc</th>\n",
       "      <th>rec type</th>\n",
       "      <th>url</th>\n",
       "    </tr>\n",
       "  </thead>\n",
       "  <tbody>\n",
       "    <tr>\n",
       "      <td>0</td>\n",
       "      <td>카비 채용 - [CARVI] 데이터사이언티스트 총괄 | 잡코리아</td>\n",
       "      <td>데이터 사이언티스트</td>\n",
       "      <td>㈜카비</td>\n",
       "      <td></td>\n",
       "      <td></td>\n",
       "      <td></td>\n",
       "      <td></td>\n",
       "      <td>서울 &gt; 금천구</td>\n",
       "      <td>경력(7년이상)</td>\n",
       "      <td>https://www.jobkorea.co.kr/Recruit/GI_Read/387...</td>\n",
       "    </tr>\n",
       "  </tbody>\n",
       "</table>\n",
       "</div>"
      ],
      "text/plain": [
       "                                 title         job cname duties skills  \\\n",
       "0  카비 채용 - [CARVI] 데이터사이언티스트 총괄 | 잡코리아  데이터 사이언티스트   ㈜카비                 \n",
       "\n",
       "  preference welfare       loc  rec type  \\\n",
       "0                     서울 > 금천구  경력(7년이상)   \n",
       "\n",
       "                                                 url  \n",
       "0  https://www.jobkorea.co.kr/Recruit/GI_Read/387...  "
      ]
     },
     "execution_count": 101,
     "metadata": {},
     "output_type": "execute_result"
    }
   ],
   "source": [
    "# Data에 저장\n",
    "length = Data.shape[0]\n",
    "#Data.drop([length-1], inplace=True)\n",
    "\n",
    "#length = Data.shape[0]\n",
    "Data.loc[length] = [title, job, company, duties, skills, preference, welfare, loc, rec, url]\n",
    "Data"
   ]
  },
  {
   "cell_type": "code",
   "execution_count": 102,
   "metadata": {},
   "outputs": [],
   "source": [
    "import openpyxl\n",
    "Data.to_excel('../output/DataScience_0721_1.xlsx')"
   ]
  },
  {
   "cell_type": "code",
   "execution_count": 76,
   "metadata": {},
   "outputs": [
    {
     "name": "stdout",
     "output_type": "stream",
     "text": [
      "https://www.jobkorea.co.kr/Recruit/GI_Read/38778532?Oem_Code=C1&logpath=1&stext=데이터 사이언티스트&listno=6\n"
     ]
    }
   ],
   "source": [
    "print (url)"
   ]
  },
  {
   "cell_type": "code",
   "execution_count": 95,
   "metadata": {},
   "outputs": [],
   "source": [
    "# Data초기화\n",
    "Data = pd.DataFrame({}, columns=[\\\n",
    "    'title','job', 'cname','duties','skills', 'preference', 'welfare', 'loc',\\\n",
    "    'rec type','url'])"
   ]
  },
  {
   "cell_type": "code",
   "execution_count": 111,
   "metadata": {},
   "outputs": [],
   "source": [
    "driver.quit()"
   ]
  }
 ],
 "metadata": {
  "kernelspec": {
   "display_name": "Python 3",
   "language": "python",
   "name": "python3"
  },
  "language_info": {
   "codemirror_mode": {
    "name": "ipython",
    "version": 3
   },
   "file_extension": ".py",
   "mimetype": "text/x-python",
   "name": "python",
   "nbconvert_exporter": "python",
   "pygments_lexer": "ipython3",
   "version": "3.7.4"
  }
 },
 "nbformat": 4,
 "nbformat_minor": 4
}
